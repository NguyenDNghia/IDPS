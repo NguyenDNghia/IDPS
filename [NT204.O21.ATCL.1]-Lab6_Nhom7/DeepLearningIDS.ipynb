{
  "nbformat": 4,
  "nbformat_minor": 0,
  "metadata": {
    "colab": {
      "provenance": [],
      "gpuType": "T4"
    },
    "kernelspec": {
      "name": "python3",
      "display_name": "Python 3"
    },
    "language_info": {
      "name": "python"
    },
    "accelerator": "GPU"
  },
  "cells": [
    {
      "cell_type": "code",
      "source": [
        "# Load Drive Helper\n",
        "from google.colab import drive\n",
        "drive.mount('/content/drive', force_remount=True)"
      ],
      "metadata": {
        "colab": {
          "base_uri": "https://localhost:8080/"
        },
        "id": "mA2nBxBZkgZJ",
        "outputId": "ae09e7e4-53a0-40e3-bad0-b0a89262af56"
      },
      "execution_count": null,
      "outputs": [
        {
          "output_type": "stream",
          "name": "stdout",
          "text": [
            "Mounted at /content/drive\n"
          ]
        }
      ]
    },
    {
      "cell_type": "code",
      "source": [
        "from google.colab import drive\n",
        "drive.mount('/content/drive')"
      ],
      "metadata": {
        "colab": {
          "base_uri": "https://localhost:8080/"
        },
        "id": "J9rkAfa8TJWp",
        "outputId": "0ca33c86-f767-4b56-a23a-31c143412394"
      },
      "execution_count": null,
      "outputs": [
        {
          "output_type": "stream",
          "name": "stdout",
          "text": [
            "Mounted at /content/drive\n"
          ]
        }
      ]
    },
    {
      "cell_type": "code",
      "execution_count": null,
      "metadata": {
        "id": "7lyqdfFyi9V0"
      },
      "outputs": [],
      "source": [
        "# Import các thư viên cần thiết\n",
        "import os\n",
        "import pandas as pd\n",
        "import numpy as np\n",
        "from sklearn import preprocessing\n",
        "from sklearn.metrics import precision_score, recall_score, f1_score, accuracy_score\n",
        "import tensorflow as tf\n",
        "from tensorflow.keras.models import Sequential\n",
        "from tensorflow.keras.layers import LSTM, Dense, Dropout\n",
        "from tensorflow.keras.optimizers import Adam"
      ]
    },
    {
      "cell_type": "code",
      "source": [
        "DATASET_PATH = '/content/drive/My Drive/NT204/dataset/'\n",
        "TRAINSET_PATH = DATASET_PATH + 'train_set.csv'\n",
        "TESTSET_PATH = DATASET_PATH + 'test_set.csv'\n",
        "\n",
        "# Tạo thư mục để tải dataset\n",
        "if not os.path.exists(DATASET_PATH):\n",
        "  os.makedirs(DATASET_PATH)\n",
        "\n",
        "'''\n",
        "Tải tập train (train_set.csv) và tập test (test_set.csv) vào thư mục /content/drive/My Drive/NT204/dataset/ trên drive.\n",
        "Lưu ý: Đặt đúng tên các file.\n",
        "- Tải các tập dữ liệu tại: https://drive.google.com/drive/folders/1nYyDqbmichotvI9eSOrKo-yRwtLUy_iM?usp=sharing\n",
        "'''"
      ],
      "metadata": {
        "colab": {
          "base_uri": "https://localhost:8080/",
          "height": 70
        },
        "id": "AV_LgvW2nngf",
        "outputId": "faa82006-a541-420f-bdc0-8410de1a11a4"
      },
      "execution_count": null,
      "outputs": [
        {
          "output_type": "execute_result",
          "data": {
            "text/plain": [
              "'\\nTải tập train (train_set.csv) và tập test (test_set.csv) vào thư mục /content/drive/My Drive/NT204/dataset/ trên drive.\\nLưu ý: Đặt đúng tên các file.\\n- Tải các tập dữ liệu tại: https://drive.google.com/drive/folders/1nYyDqbmichotvI9eSOrKo-yRwtLUy_iM?usp=sharing\\n'"
            ],
            "application/vnd.google.colaboratory.intrinsic+json": {
              "type": "string"
            }
          },
          "metadata": {},
          "execution_count": 3
        }
      ]
    },
    {
      "cell_type": "code",
      "source": [
        "# Tiền xử lý dữ liệu\n",
        "lable_encoder = preprocessing.LabelEncoder()\n",
        "\n",
        "# Tập train\n",
        "data_train = pd.read_csv(TRAINSET_PATH)\n",
        "\n",
        "x_train, y_train = data_train.iloc[:, :-1], data_train.iloc[:, [-1]]\n",
        "y_train = y_train.apply(lable_encoder.fit_transform)\n",
        "x_train, y_train = x_train.to_numpy(), y_train.to_numpy()\n",
        "\n",
        "# Lấy số thuộc tính và số lớp\n",
        "NUM_FEATURES = x_train.shape[1] # Số thuộc tính bằng số chiều (số cột của x_train hoặc x_test)\n",
        "NUM_CLASSES = np.unique(y_train).size # Số class bằng tổng số các giá trị khác nhau của y_train\n",
        "\n",
        "# one-hot encoding label\n",
        "y_train = tf.keras.utils.to_categorical(y_train)"
      ],
      "metadata": {
        "id": "tuzhQZAEjavK"
      },
      "execution_count": null,
      "outputs": []
    },
    {
      "cell_type": "code",
      "source": [
        "print(\"Number of features: %s\" %NUM_FEATURES)\n",
        "print(\"Number of classes: %s\" %NUM_CLASSES)"
      ],
      "metadata": {
        "colab": {
          "base_uri": "https://localhost:8080/"
        },
        "id": "vhqV3ux64-kO",
        "outputId": "c5c3c8de-10ca-4bfd-f3af-dde6597dfb3c"
      },
      "execution_count": null,
      "outputs": [
        {
          "output_type": "stream",
          "name": "stdout",
          "text": [
            "Number of features: 42\n",
            "Number of classes: 11\n"
          ]
        }
      ]
    },
    {
      "cell_type": "code",
      "source": [
        "model = Sequential([\n",
        "    # Thêm một tầng LSTM với 50 đơn vị. 'input_shape' chỉ ra kích thước của dữ liệu đầu vào.\n",
        "    #'return_sequences=True' để chồng các tầng LSTM; nó cho biết output của tầng này\n",
        "    # sẽ có cấu trúc chuỗi để đầu vào của tầng LSTM tiếp theo có thể hiểu được.\n",
        "    LSTM(50, input_shape=(x_train.shape[1], 1), return_sequences=True),\n",
        "    # Thêm một tầng Dropout để giảm hiện tượng overfitting. Dropout sẽ ngẫu nhiên loại bỏ (tức là thiết lập thành zero)\n",
        "    # một phần các đặc trưng đầu vào trong quá trình đào tạo với tỷ lệ là 0.2.\n",
        "    Dropout(0.2),\n",
        "    # Thêm một tầng LSTM thứ hai với 25 đơn vị. Không cần 'return_sequences' ở đây vì đây là tầng LSTM cuối cùng\n",
        "    # và chỉ cần trả về output cuối cùng cho tầng Dense tiếp theo.\n",
        "    LSTM(25),\n",
        "     # Thêm một tầng Dense. Tầng này là một tầng kết nối đầy đủ với 50 nơ-ron và sử dụng hàm kích hoạt ReLU.\n",
        "    Dense(50, activation='relu'),\n",
        "     # Tầng output cuối cùng là một tầng Dense với số lượng nơ-ron bằng số lượng class trong dữ liệu đầu ra (y_train).\n",
        "    # Sử dụng hàm kích hoạt 'softmax' để chuyển đổi các giá trị logits thành xác suất cho mỗi class.\n",
        "    Dense(y_train.shape[1], activation='softmax')\n",
        "])\n",
        "\n",
        "# Compile mô hình\n",
        "# Compile mô hình sử dụng:\n",
        "# - 'adam' làm bộ tối ưu hóa, một biến thể của gradient descent có điều chỉnh tỷ lệ học tự động.\n",
        "# - 'categorical_crossentropy' làm hàm mất mát, phù hợp với các bài toán phân loại đa lớp khi đầu ra là one-hot encoded.\n",
        "# - 'accuracy' là chỉ số được theo dõi trong quá trình đào tạo và đánh giá mô hình.\n",
        "model.compile(optimizer='adam', loss='categorical_crossentropy', metrics=['accuracy'])"
      ],
      "metadata": {
        "id": "GDbCW3snOcOP"
      },
      "execution_count": null,
      "outputs": []
    },
    {
      "cell_type": "code",
      "source": [
        "# Xem thông tin của mô hình\n",
        "model.summary()"
      ],
      "metadata": {
        "colab": {
          "base_uri": "https://localhost:8080/"
        },
        "id": "xjUYh7jdYtYG",
        "outputId": "8fa7d8af-be7f-4a47-c8cb-b01231047fae"
      },
      "execution_count": null,
      "outputs": [
        {
          "output_type": "stream",
          "name": "stdout",
          "text": [
            "Model: \"sequential\"\n",
            "_________________________________________________________________\n",
            " Layer (type)                Output Shape              Param #   \n",
            "=================================================================\n",
            " lstm (LSTM)                 (None, 42, 50)            10400     \n",
            "                                                                 \n",
            " dropout (Dropout)           (None, 42, 50)            0         \n",
            "                                                                 \n",
            " lstm_1 (LSTM)               (None, 25)                7600      \n",
            "                                                                 \n",
            " dense (Dense)               (None, 50)                1300      \n",
            "                                                                 \n",
            " dense_1 (Dense)             (None, 11)                561       \n",
            "                                                                 \n",
            "=================================================================\n",
            "Total params: 19861 (77.58 KB)\n",
            "Trainable params: 19861 (77.58 KB)\n",
            "Non-trainable params: 0 (0.00 Byte)\n",
            "_________________________________________________________________\n"
          ]
        }
      ]
    },
    {
      "cell_type": "code",
      "source": [
        "# Lưu mô hình\n",
        "model.save('/content/drive/My Drive/NT204/model.h5')"
      ],
      "metadata": {
        "colab": {
          "base_uri": "https://localhost:8080/"
        },
        "id": "NmcJvQv1U4Tv",
        "outputId": "b67b7788-6838-4797-db29-3346336fdce4"
      },
      "execution_count": null,
      "outputs": [
        {
          "output_type": "stream",
          "name": "stderr",
          "text": [
            "/usr/local/lib/python3.10/dist-packages/keras/src/engine/training.py:3103: UserWarning: You are saving your model as an HDF5 file via `model.save()`. This file format is considered legacy. We recommend using instead the native Keras format, e.g. `model.save('my_model.keras')`.\n",
            "  saving_api.save_model(\n"
          ]
        }
      ]
    },
    {
      "cell_type": "code",
      "source": [
        "# Huấn luyện mô hình\n",
        "# Sử dụng dữ liệu đã chuẩn bị, huấn luyện mô hình với 30 epochs.\n",
        "# Batch size là 64, có nghĩa là mỗi lần cập nhật trọng số sử dụng 64 mẫu.\n",
        "# Validation split là 0.2, tức là 20% dữ liệu huấn luyện được sử dụng để đánh giá mô hình trong quá trình huấn luyện.\n",
        "model.fit(x_train, y_train, epochs=30, batch_size=64, validation_split=0.2)"
      ],
      "metadata": {
        "colab": {
          "base_uri": "https://localhost:8080/"
        },
        "id": "CJEwCc5xPUG6",
        "outputId": "5a764afe-02b0-439a-80be-026a09a76439"
      },
      "execution_count": null,
      "outputs": [
        {
          "output_type": "stream",
          "name": "stdout",
          "text": [
            "Epoch 1/30\n",
            "22226/22226 [==============================] - 198s 9ms/step - loss: 0.1195 - accuracy: 0.9603 - val_loss: 0.0912 - val_accuracy: 0.9670\n",
            "Epoch 2/30\n",
            "22226/22226 [==============================] - 190s 9ms/step - loss: 0.0886 - accuracy: 0.9678 - val_loss: 0.0810 - val_accuracy: 0.9705\n",
            "Epoch 3/30\n",
            "22226/22226 [==============================] - 190s 9ms/step - loss: 0.0788 - accuracy: 0.9702 - val_loss: 0.0732 - val_accuracy: 0.9715\n",
            "Epoch 4/30\n",
            "22226/22226 [==============================] - 189s 9ms/step - loss: 0.0716 - accuracy: 0.9723 - val_loss: 0.0648 - val_accuracy: 0.9744\n",
            "Epoch 5/30\n",
            "22226/22226 [==============================] - 190s 9ms/step - loss: 0.0676 - accuracy: 0.9735 - val_loss: 0.0647 - val_accuracy: 0.9743\n",
            "Epoch 6/30\n",
            "22226/22226 [==============================] - 189s 9ms/step - loss: 0.0639 - accuracy: 0.9747 - val_loss: 0.0609 - val_accuracy: 0.9758\n",
            "Epoch 7/30\n",
            "22226/22226 [==============================] - 188s 8ms/step - loss: 0.0621 - accuracy: 0.9754 - val_loss: 0.0606 - val_accuracy: 0.9759\n",
            "Epoch 8/30\n",
            "22226/22226 [==============================] - 190s 9ms/step - loss: 0.0610 - accuracy: 0.9758 - val_loss: 0.0591 - val_accuracy: 0.9770\n",
            "Epoch 9/30\n",
            "22226/22226 [==============================] - 190s 9ms/step - loss: 0.0596 - accuracy: 0.9765 - val_loss: 0.0570 - val_accuracy: 0.9775\n",
            "Epoch 10/30\n",
            "22226/22226 [==============================] - 190s 9ms/step - loss: 0.0591 - accuracy: 0.9768 - val_loss: 0.0594 - val_accuracy: 0.9768\n",
            "Epoch 11/30\n",
            "22226/22226 [==============================] - 189s 8ms/step - loss: 0.0579 - accuracy: 0.9770 - val_loss: 0.0588 - val_accuracy: 0.9770\n",
            "Epoch 12/30\n",
            "22226/22226 [==============================] - 189s 9ms/step - loss: 0.0572 - accuracy: 0.9773 - val_loss: 0.0558 - val_accuracy: 0.9780\n",
            "Epoch 13/30\n",
            "22226/22226 [==============================] - 189s 8ms/step - loss: 0.0569 - accuracy: 0.9774 - val_loss: 0.0561 - val_accuracy: 0.9778\n",
            "Epoch 14/30\n",
            "22226/22226 [==============================] - 188s 8ms/step - loss: 0.0563 - accuracy: 0.9776 - val_loss: 0.0559 - val_accuracy: 0.9776\n",
            "Epoch 15/30\n",
            "22226/22226 [==============================] - 189s 8ms/step - loss: 0.0569 - accuracy: 0.9775 - val_loss: 0.0564 - val_accuracy: 0.9777\n",
            "Epoch 16/30\n",
            "22226/22226 [==============================] - 188s 8ms/step - loss: 0.0559 - accuracy: 0.9777 - val_loss: 0.0569 - val_accuracy: 0.9772\n",
            "Epoch 17/30\n",
            "22226/22226 [==============================] - 190s 9ms/step - loss: 0.0578 - accuracy: 0.9773 - val_loss: 0.0550 - val_accuracy: 0.9780\n",
            "Epoch 18/30\n",
            "22226/22226 [==============================] - 188s 8ms/step - loss: 0.0557 - accuracy: 0.9777 - val_loss: 0.0558 - val_accuracy: 0.9777\n",
            "Epoch 19/30\n",
            "22226/22226 [==============================] - 190s 9ms/step - loss: 0.0564 - accuracy: 0.9777 - val_loss: 0.0594 - val_accuracy: 0.9771\n",
            "Epoch 20/30\n",
            "22226/22226 [==============================] - 188s 8ms/step - loss: 0.0554 - accuracy: 0.9779 - val_loss: 0.0545 - val_accuracy: 0.9783\n",
            "Epoch 21/30\n",
            "22226/22226 [==============================] - 189s 8ms/step - loss: 0.0548 - accuracy: 0.9780 - val_loss: 0.0539 - val_accuracy: 0.9784\n",
            "Epoch 22/30\n",
            "22226/22226 [==============================] - 188s 8ms/step - loss: 0.0547 - accuracy: 0.9781 - val_loss: 0.0540 - val_accuracy: 0.9785\n",
            "Epoch 23/30\n",
            "22226/22226 [==============================] - 188s 8ms/step - loss: 0.0543 - accuracy: 0.9783 - val_loss: 0.0543 - val_accuracy: 0.9783\n",
            "Epoch 24/30\n",
            "22226/22226 [==============================] - 189s 9ms/step - loss: 0.0545 - accuracy: 0.9781 - val_loss: 0.0545 - val_accuracy: 0.9782\n",
            "Epoch 25/30\n",
            "22226/22226 [==============================] - 189s 8ms/step - loss: 0.0539 - accuracy: 0.9783 - val_loss: 0.0534 - val_accuracy: 0.9785\n",
            "Epoch 26/30\n",
            "22226/22226 [==============================] - 190s 9ms/step - loss: 0.0540 - accuracy: 0.9782 - val_loss: 0.0536 - val_accuracy: 0.9786\n",
            "Epoch 27/30\n",
            "22226/22226 [==============================] - 187s 8ms/step - loss: 0.0538 - accuracy: 0.9784 - val_loss: 0.0534 - val_accuracy: 0.9786\n",
            "Epoch 28/30\n",
            "22226/22226 [==============================] - 189s 9ms/step - loss: 0.0535 - accuracy: 0.9785 - val_loss: 0.0532 - val_accuracy: 0.9786\n",
            "Epoch 29/30\n",
            "22226/22226 [==============================] - 187s 8ms/step - loss: 0.0533 - accuracy: 0.9784 - val_loss: 0.0536 - val_accuracy: 0.9785\n",
            "Epoch 30/30\n",
            "22226/22226 [==============================] - 189s 9ms/step - loss: 0.0533 - accuracy: 0.9784 - val_loss: 0.0524 - val_accuracy: 0.9789\n"
          ]
        },
        {
          "output_type": "execute_result",
          "data": {
            "text/plain": [
              "<keras.src.callbacks.History at 0x7bada8f95b40>"
            ]
          },
          "metadata": {},
          "execution_count": 8
        }
      ]
    },
    {
      "cell_type": "code",
      "source": [
        "# Tiền xử lý dữ liệu kiểm thử\n",
        "data_test = pd.read_csv(TESTSET_PATH)\n",
        "x_test, y_test = data_test.iloc[:, :-1], data_test.iloc[:, [-1]]\n",
        "y_test = y_test.apply(lable_encoder.transform)  # Sử dụng transform, không phải fit_transform\n",
        "x_test, y_test = x_test.to_numpy(), y_test.to_numpy()\n",
        "\n",
        "# One-hot encoding cho y_test để phù hợp với cách mô hình được huấn luyện.\n",
        "y_test = tf.keras.utils.to_categorical(y_test)"
      ],
      "metadata": {
        "id": "ImodMekxHM9i"
      },
      "execution_count": null,
      "outputs": []
    },
    {
      "cell_type": "code",
      "source": [
        "# Đánh giá mô hình\n",
        "# Đánh giá mô hình trên dữ liệu kiểm thử và in ra loss và accuracy.\n",
        "loss, accuracy = model.evaluate(x_test, y_test)\n",
        "print(f\"Loss: {loss}, Accuracy: {accuracy}\")\n",
        "\n",
        "# Dự đoán và tính các chỉ số\n",
        "# Sử dụng mô hình để dự đoán dữ liệu kiểm thử.\n",
        "predictions = model.predict(x_test)\n",
        "# Lấy chỉ số của lớp có xác suất cao nhất từ kết quả dự đoán.\n",
        "predicted_classes = np.argmax(predictions, axis=1)\n",
        "# Lấy chỉ số lớp từ y_test.\n",
        "true_classes = np.argmax(y_test, axis=1)\n",
        "\n",
        "# Tính Precision, Recall và F1-Score\n",
        "# Tính toán các chỉ số đánh giá chính cho mô hình.\n",
        "precision = precision_score(true_classes, predicted_classes, average='weighted')\n",
        "recall = recall_score(true_classes, predicted_classes, average='weighted')\n",
        "f1 = f1_score(true_classes, predicted_classes, average='weighted')\n",
        "\n",
        "print(f\"Precision: {precision}, Recall: {recall}, F1-Score: {f1}\")"
      ],
      "metadata": {
        "id": "-G6pIWMNPYHk",
        "colab": {
          "base_uri": "https://localhost:8080/"
        },
        "outputId": "2241a743-b2a2-49dd-b3b7-eb11bae2fdb1"
      },
      "execution_count": null,
      "outputs": [
        {
          "output_type": "stream",
          "name": "stdout",
          "text": [
            "23813/23813 [==============================] - 99s 4ms/step - loss: 0.0521 - accuracy: 0.9791\n",
            "Loss: 0.052093133330345154, Accuracy: 0.9790542125701904\n",
            "23813/23813 [==============================] - 79s 3ms/step\n"
          ]
        },
        {
          "output_type": "stream",
          "name": "stderr",
          "text": [
            "/usr/local/lib/python3.10/dist-packages/sklearn/metrics/_classification.py:1344: UndefinedMetricWarning: Precision is ill-defined and being set to 0.0 in labels with no predicted samples. Use `zero_division` parameter to control this behavior.\n",
            "  _warn_prf(average, modifier, msg_start, len(result))\n"
          ]
        },
        {
          "output_type": "stream",
          "name": "stdout",
          "text": [
            "Precision: 0.9774788410129246, Recall: 0.9790542180928197, F1-Score: 0.9757508171642557\n"
          ]
        }
      ]
    },
    {
      "cell_type": "code",
      "source": [
        "# Kiểm tra mô hình với tập test\n",
        "preds = model.predict(x_test, batch_size=1024)"
      ],
      "metadata": {
        "colab": {
          "base_uri": "https://localhost:8080/"
        },
        "id": "hB71XV6IWhhI",
        "outputId": "e809887c-7fc5-434d-875f-3763f9d7b7e3"
      },
      "execution_count": null,
      "outputs": [
        {
          "output_type": "stream",
          "name": "stdout",
          "text": [
            "745/745 [==============================] - 3s 4ms/step\n"
          ]
        }
      ]
    },
    {
      "cell_type": "code",
      "source": [
        "# Tính toán kết quả\n",
        "# Chuyển y_test từ one-hot về chỉ số lớp để tính toán các chỉ số.\n",
        "y_test = np.argmax(y_test, axis=1)\n",
        "\n",
        "y_pred = np.argmax(preds, axis=1)\n",
        "\n",
        "accuracy = accuracy_score(y_test, y_pred)\n",
        "precision = precision_score(y_test, y_pred, average='weighted', zero_division=0)\n",
        "recall = recall_score(y_test, y_pred, average='weighted', zero_division=0)\n",
        "f1 = f1_score(y_test, y_pred, average='weighted', zero_division=0)\n",
        "\n",
        "print('Accuracy: %s\\nPrecision: %s\\nRecal: %s\\nF1-Score: %s' %(accuracy, precision, recall, f1))"
      ],
      "metadata": {
        "colab": {
          "base_uri": "https://localhost:8080/"
        },
        "id": "5Zc8_wTzUfSh",
        "outputId": "34e8ee03-eb3e-4325-b86f-334b30b29eaa"
      },
      "execution_count": null,
      "outputs": [
        {
          "output_type": "stream",
          "name": "stdout",
          "text": [
            "Accuracy: 0.9790542180928197\n",
            "Precision: 0.9774788410129246\n",
            "Recal: 0.9790542180928197\n",
            "F1-Score: 0.9757508171642557\n"
          ]
        }
      ]
    }
  ]
}